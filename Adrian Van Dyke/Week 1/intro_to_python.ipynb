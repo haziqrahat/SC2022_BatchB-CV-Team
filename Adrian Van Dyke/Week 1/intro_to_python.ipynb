{
 "cells": [
  {
   "cell_type": "markdown",
   "metadata": {
    "collapsed": false,
    "id": "0ExiI3s_QPR7"
   },
   "source": [
    "# Python Basics"
   ]
  },
  {
   "cell_type": "markdown",
   "metadata": {
    "collapsed": false,
    "id": "_dO5QVgOQPR-"
   },
   "source": [
    "The goal of this notebook is to provide students with knowledge of the fundamentals of python. We will take a more interactive approach than most class room settings and ask the students to do some research on their own then bring their learnings back here to share with the class. "
   ]
  },
  {
   "cell_type": "markdown",
   "metadata": {
    "collapsed": false,
    "id": "Rapm-jaKQPR-"
   },
   "source": [
    "### Variables"
   ]
  },
  {
   "cell_type": "markdown",
   "metadata": {
    "collapsed": false,
    "id": "-UGnaDpyQPR_"
   },
   "source": [
    "Variables work by assigning a value to a specific word or string of characters. It can be done using the \"=\" sign. This assigns whatever is on the right the string of characters on the left. We'll go ahead and try assigning a few variables in the next block."
   ]
  },
  {
   "cell_type": "code",
   "execution_count": 13,
   "metadata": {
    "colab": {
     "base_uri": "https://localhost:8080/"
    },
    "collapsed": false,
    "id": "lYt96PjpQPSA",
    "outputId": "4820a63e-5f46-4dda-c0bb-d132a09f3980"
   },
   "outputs": [
    {
     "data": {
      "text/plain": [
       "1"
      ]
     },
     "execution_count": 13,
     "metadata": {
     },
     "output_type": "execute_result"
    }
   ],
   "source": [
    "a = 1\n",
    "b = 2\n",
    "c = 3\n",
    "a # when you put a variable by itself, its value will be printed (This is a comment - anything after a # on the same line will be ignored)"
   ]
  },
  {
   "cell_type": "markdown",
   "metadata": {
    "collapsed": false,
    "id": "kMi8ltKcQPSB"
   },
   "source": [
    "We can also perform basic algebra to these variables and save the output to a new variable"
   ]
  },
  {
   "cell_type": "code",
   "execution_count": 14,
   "metadata": {
    "colab": {
     "base_uri": "https://localhost:8080/"
    },
    "collapsed": false,
    "id": "jXIckzv2QPSC",
    "outputId": "f29fafeb-51cc-4261-fb32-fe1a8b28c13c"
   },
   "outputs": [
    {
     "data": {
      "text/plain": [
       "3"
      ]
     },
     "execution_count": 14,
     "metadata": {
     },
     "output_type": "execute_result"
    }
   ],
   "source": [
    "d = a + b\n",
    "d"
   ]
  },
  {
   "cell_type": "code",
   "execution_count": 15,
   "metadata": {
    "colab": {
     "base_uri": "https://localhost:8080/"
    },
    "collapsed": false,
    "id": "H0WW61KRQPSD",
    "outputId": "1a936cc3-0156-46bc-bfec-c7194d30aeb2"
   },
   "outputs": [
    {
     "data": {
      "text/plain": [
       "2"
      ]
     },
     "execution_count": 15,
     "metadata": {
     },
     "output_type": "execute_result"
    }
   ],
   "source": [
    "e = c - a\n",
    "e"
   ]
  },
  {
   "cell_type": "code",
   "execution_count": 0,
   "metadata": {
    "colab": {
     "base_uri": "https://localhost:8080/"
    },
    "collapsed": false,
    "id": "wIzGAkkWQPSD",
    "outputId": "9c19e7dd-a611-42c2-9fe7-be74dc5f6c7a"
   },
   "outputs": [
    {
     "data": {
      "text/plain": [
       "6"
      ]
     },
     "execution_count": 0,
     "metadata": {
     },
     "output_type": "execute_result"
    }
   ],
   "source": [
    "f = b * c\n",
    "f"
   ]
  },
  {
   "cell_type": "code",
   "execution_count": 0,
   "metadata": {
    "colab": {
     "base_uri": "https://localhost:8080/"
    },
    "collapsed": false,
    "id": "GOaoeDtAQPSE",
    "outputId": "bcb07a69-6491-4f26-f21d-45805264437f"
   },
   "outputs": [
    {
     "data": {
      "text/plain": [
       "0.5"
      ]
     },
     "execution_count": 0,
     "metadata": {
     },
     "output_type": "execute_result"
    }
   ],
   "source": [
    "g = a / b\n",
    "g"
   ]
  },
  {
   "cell_type": "markdown",
   "metadata": {
    "collapsed": false,
    "id": "xzqzRMEfQPSF"
   },
   "source": [
    "Sometimes we want to update the value of one variable, so we can do this"
   ]
  },
  {
   "cell_type": "code",
   "execution_count": 0,
   "metadata": {
    "colab": {
     "base_uri": "https://localhost:8080/"
    },
    "collapsed": false,
    "id": "1nDLTWcpQPSF",
    "outputId": "548902ab-03ee-4750-9aab-101ac788bf2b"
   },
   "outputs": [
    {
     "data": {
      "text/plain": [
       "1.0"
      ]
     },
     "execution_count": 0,
     "metadata": {
     },
     "output_type": "execute_result"
    }
   ],
   "source": [
    "g = g*2 # the same thing works for /, +, and -\n",
    "g"
   ]
  },
  {
   "cell_type": "markdown",
   "metadata": {
    "collapsed": false,
    "id": "AS_t_yXaQPSF"
   },
   "source": [
    "This can get quite annoying with longer variable names, so we can do the following"
   ]
  },
  {
   "cell_type": "code",
   "execution_count": 0,
   "metadata": {
    "colab": {
     "base_uri": "https://localhost:8080/"
    },
    "collapsed": false,
    "id": "mp0kRwWzQPSG",
    "outputId": "1714facc-05ca-41da-a3be-0c304058be18"
   },
   "outputs": [
    {
     "data": {
      "text/plain": [
       "3.0"
      ]
     },
     "execution_count": 0,
     "metadata": {
     },
     "output_type": "execute_result"
    }
   ],
   "source": [
    "f/=2 # there is also +=, -=, and *=\n",
    "f"
   ]
  },
  {
   "cell_type": "markdown",
   "metadata": {
    "collapsed": false,
    "id": "-2QKfa4lQPSG"
   },
   "source": [
    "There are tons of different types of variables we can make. For this next section, we will ask the students to go out and figure out how to create the following types of variable: strings, floats and booleans. Once you have created these variables, try the same operations we used above and see what they do."
   ]
  },
  {
   "cell_type": "markdown",
   "metadata": {
    "collapsed": false,
    "id": "bJHCwb51QPSG"
   },
   "source": [
    "Create a few string variables here, then try to add them together, subtract them, multiply them and divide them to see what happens. You may get an error, and thats okay. Its important to know what can and can't be done with a type of data."
   ]
  },
  {
   "cell_type": "code",
   "execution_count": 1,
   "metadata": {
    "collapsed": false,
    "id": "GjiFm6tdQPSH"
   },
   "outputs": [
    {
     "data": {
      "text/plain": [
       "'Hello World'"
      ]
     },
     "execution_count": 1,
     "metadata": {
     },
     "output_type": "execute_result"
    }
   ],
   "source": [
    "string_1 = \"Hello \"\n",
    "string_2 = \"World\"\n",
    "string_3 = string_1 + string_2\n",
    "string_3"
   ]
  },
  {
   "cell_type": "markdown",
   "metadata": {
    "collapsed": false,
    "id": "rU_jfwkYQPSH"
   },
   "source": [
    "Create a few float variables here, then try to add them together, subtract them, multiply them and divide them to see what happens. You may get an error, and thats okay. Its important to know what can and can't be done with a type of data.\n",
    "\n"
   ]
  },
  {
   "cell_type": "code",
   "execution_count": 2,
   "metadata": {
    "collapsed": false,
    "id": "HCEAnMnDQPSH"
   },
   "outputs": [
    {
     "data": {
      "text/plain": [
       "6.0"
      ]
     },
     "execution_count": 2,
     "metadata": {
     },
     "output_type": "execute_result"
    }
   ],
   "source": [
    "float_1 = 5.0\n",
    "float_2 = 1.0\n",
    "float_3 = float_1 + float_2\n",
    "float_3"
   ]
  },
  {
   "cell_type": "markdown",
   "metadata": {
    "collapsed": false,
    "id": "9FNdxSh_QPSH"
   },
   "source": [
    "Create a few boolean variables here, then try to add them together, subtract them, multiply them and divide them to see what happens. You may get an error, and thats okay. Its important to know what can and can't be done with a type of data.\n",
    "\n"
   ]
  },
  {
   "cell_type": "code",
   "execution_count": 6,
   "metadata": {
    "collapsed": false,
    "id": "NmcTzinvQPSI"
   },
   "outputs": [
    {
     "data": {
      "text/plain": [
       "0"
      ]
     },
     "execution_count": 6,
     "metadata": {
     },
     "output_type": "execute_result"
    }
   ],
   "source": [
    "bool_1 = False\n",
    "bool_2 = False\n",
    "bool_3 = bool_1 + bool_2\n",
    "bool_3"
   ]
  },
  {
   "cell_type": "markdown",
   "metadata": {
    "collapsed": false,
    "id": "7di_vtlyQPSI"
   },
   "source": [
    "### Lists, Dictionaries, and Tuples\n",
    "\n"
   ]
  },
  {
   "cell_type": "markdown",
   "metadata": {
    "collapsed": false,
    "id": "M5cuEuaDQPSI"
   },
   "source": [
    "Lists work similarly to the variables we created above but store multiple values. We'll cover the types metioned above then ask the students to try and create their own versions of them.\n"
   ]
  },
  {
   "cell_type": "markdown",
   "metadata": {
    "collapsed": false,
    "id": "e8GIOzZJQPSI"
   },
   "source": [
    "First up, lists. you can create a list with the following code."
   ]
  },
  {
   "cell_type": "code",
   "execution_count": 0,
   "metadata": {
    "collapsed": false,
    "id": "Z7Kr_5ghQPSI"
   },
   "outputs": [
   ],
   "source": [
    "my_list = [1, 2, 3, 4, 5]"
   ]
  },
  {
   "cell_type": "markdown",
   "metadata": {
    "collapsed": false,
    "id": "gkNke1agQPSI"
   },
   "source": [
    "To access a specific item from the list, you would do the following."
   ]
  },
  {
   "cell_type": "code",
   "execution_count": 0,
   "metadata": {
    "colab": {
     "base_uri": "https://localhost:8080/"
    },
    "collapsed": false,
    "id": "y1ii3jWLQPSJ",
    "outputId": "96550428-16e8-4f84-e7ee-f743f8af0127"
   },
   "outputs": [
    {
     "data": {
      "text/plain": [
       "3"
      ]
     },
     "execution_count": 0,
     "metadata": {
     },
     "output_type": "execute_result"
    }
   ],
   "source": [
    "my_list[2] # here, 2 is the index you are accessing"
   ]
  },
  {
   "cell_type": "markdown",
   "metadata": {
    "collapsed": false,
    "id": "GL-XB9INQPSJ"
   },
   "source": [
    "The first element in the list is at index 0, then the second element is at index 1 and so on.\n",
    "\n"
   ]
  },
  {
   "cell_type": "code",
   "execution_count": 0,
   "metadata": {
    "colab": {
     "base_uri": "https://localhost:8080/",
     "height": 35
    },
    "collapsed": false,
    "id": "mBa3oPUMQPSK",
    "outputId": "0ab14bb0-fbf4-4adc-c0a1-7ddba8d4a19b"
   },
   "outputs": [
   ],
   "source": [
    "print(my_list[0], my_list[1], my_list[2], my_list[3], my_list[4])"
   ]
  },
  {
   "cell_type": "markdown",
   "metadata": {
    "collapsed": false,
    "id": "cVoRoZXlQPSL"
   },
   "source": [
    "**TODO:** Below, create a list of your favorite colors. Then figure out how to add a new element to the end of the list. Finally change a value in the list to something new.\n"
   ]
  },
  {
   "cell_type": "code",
   "execution_count": 8,
   "metadata": {
    "collapsed": false,
    "id": "YNn1S-ErQPSL"
   },
   "outputs": [
    {
     "data": {
      "text/plain": [
       "['Red', 'Blue', 'Green']"
      ]
     },
     "execution_count": 8,
     "metadata": {
     },
     "output_type": "execute_result"
    }
   ],
   "source": [
    "colors = [\"Red\", \"Blue\", \"Green\"]\n",
    "colors"
   ]
  },
  {
   "cell_type": "markdown",
   "metadata": {
    "collapsed": false
   },
   "source": [
    "Now, figure out how to `append` a new element to the end of the list. Maybe google \"how to append an element to a list python\"\n",
    "\n",
    "Finally change a value in the list to something new.\n",
    "\n"
   ]
  },
  {
   "cell_type": "code",
   "execution_count": 9,
   "metadata": {
    "collapsed": false
   },
   "outputs": [
    {
     "data": {
      "text/plain": [
       "['Red', 'Blue', 'Green', 'Purple']"
      ]
     },
     "execution_count": 9,
     "metadata": {
     },
     "output_type": "execute_result"
    }
   ],
   "source": [
    "colors.append(\"Purple\")\n",
    "colors"
   ]
  },
  {
   "cell_type": "code",
   "execution_count": 10,
   "metadata": {
    "collapsed": false
   },
   "outputs": [
    {
     "data": {
      "text/plain": [
       "['Gold', 'Blue', 'Green', 'Purple']"
      ]
     },
     "execution_count": 10,
     "metadata": {
     },
     "output_type": "execute_result"
    }
   ],
   "source": [
    "colors[0] = \"Gold\"\n",
    "colors"
   ]
  },
  {
   "cell_type": "markdown",
   "metadata": {
    "collapsed": false,
    "id": "jpaN8K_ZQPSM"
   },
   "source": [
    "### For loops, while loops, and if statements \n",
    "\n"
   ]
  },
  {
   "cell_type": "markdown",
   "metadata": {
    "collapsed": false,
    "id": "SwBpJqbpQPSM"
   },
   "source": [
    "We will learn more about for loops in the next lesson. For now, we will use them to go through a list and print out each element."
   ]
  },
  {
   "cell_type": "code",
   "execution_count": 0,
   "metadata": {
    "colab": {
     "base_uri": "https://localhost:8080/"
    },
    "collapsed": false,
    "id": "dwcVU8rCQPSM",
    "outputId": "19fb28c7-c26e-4eb0-a298-b692b86e8d06"
   },
   "outputs": [
    {
     "name": "stdout",
     "output_type": "stream",
     "text": [
      "1\n",
      "2\n",
      "3\n",
      "4\n",
      "5\n"
     ]
    }
   ],
   "source": [
    "for number in my_list:\n",
    "  print(number)"
   ]
  },
  {
   "cell_type": "markdown",
   "metadata": {
    "collapsed": false,
    "id": "oUJi_1qhQPSN"
   },
   "source": [
    "Next, we will look at how to make a list run a specific number of times."
   ]
  },
  {
   "cell_type": "code",
   "execution_count": 0,
   "metadata": {
    "colab": {
     "base_uri": "https://localhost:8080/"
    },
    "collapsed": false,
    "id": "1WDJw-zLQPSN",
    "outputId": "64cc601f-8ed7-4213-d44d-1853b53b1b86"
   },
   "outputs": [
    {
     "name": "stdout",
     "output_type": "stream",
     "text": [
      "i =  0\n",
      "i =  1\n",
      "i =  2\n",
      "i =  3\n",
      "i =  4\n"
     ]
    }
   ],
   "source": [
    "for i in range(5): # range functions the same here as the list [0,1,2,3,4,5]\n",
    "    print('i = ', i)"
   ]
  },
  {
   "cell_type": "markdown",
   "metadata": {
    "collapsed": false,
    "id": "Del5jaQ2QPSN"
   },
   "source": [
    "Next, we'll take a look at while loops. In general, you can make a while loop do anything that a for loop can do but with slightly different syntax, so if you find youself understanding while loops better than for loops, you can just focus on using while loops. "
   ]
  },
  {
   "cell_type": "markdown",
   "metadata": {
    "collapsed": false,
    "id": "DpD_UkYBQPSN"
   },
   "source": [
    "In the block below, we will make a while loop that runs 5 times. For while loops, we can't specify how long they will run for ahead of time so its important for us to create an achievable exit condition. An exit condition is just the condition that will cause the code to stop running. This is checked every time, immediatly before the code runs or reruns. We want to make sure that this condition will eventually happen, otherwise the code will run until something crashes or we manually close it"
   ]
  },
  {
   "cell_type": "code",
   "execution_count": 0,
   "metadata": {
    "colab": {
     "base_uri": "https://localhost:8080/"
    },
    "collapsed": false,
    "id": "j2OvkKqWQPSN",
    "outputId": "e097da35-32f2-43f3-805e-52aac26f7abd"
   },
   "outputs": [
    {
     "name": "stdout",
     "output_type": "stream",
     "text": [
      "Hello World\n",
      "Hello World\n",
      "Hello World\n",
      "Hello World\n",
      "Hello World\n"
     ]
    }
   ],
   "source": [
    "i = 0\n",
    "while i < 5:\n",
    "    print(\"Hello World\")\n",
    "    i = i + 1"
   ]
  },
  {
   "cell_type": "markdown",
   "metadata": {
    "collapsed": false,
    "id": "bKSvGNMWQPSN"
   },
   "source": [
    "Now for if statements. The if-elif-else statement is used to conditionally execute a statement or a block of statements. Conditions can be true or false, execute one thing when the condition is true, something else when the condition is false."
   ]
  },
  {
   "cell_type": "code",
   "execution_count": 0,
   "metadata": {
    "collapsed": false,
    "id": "K7aHB-OdQPSN"
   },
   "outputs": [
   ],
   "source": [
    "a = 1\n",
    "b = 2\n",
    "if a > b:\n",
    "    print(\"a is greater than b\")"
   ]
  },
  {
   "cell_type": "markdown",
   "metadata": {
    "collapsed": false,
    "id": "S7M1Iq_5QPSO"
   },
   "source": [
    "We can add else statements to the above. An else statement is what will be run if the original statement is false."
   ]
  },
  {
   "cell_type": "code",
   "execution_count": 0,
   "metadata": {
    "colab": {
     "base_uri": "https://localhost:8080/"
    },
    "collapsed": false,
    "id": "mzeHNJjtQPSO",
    "outputId": "c0bcfd00-f8ae-484c-d1ae-c67130d8d7b2"
   },
   "outputs": [
    {
     "name": "stdout",
     "output_type": "stream",
     "text": [
      "b is less than a\n"
     ]
    }
   ],
   "source": [
    "a = 1\n",
    "b = 2\n",
    "if a > b:\n",
    "    print(\"a is greater than b\")\n",
    "else:\n",
    "    print(\"b is less than a\")"
   ]
  },
  {
   "cell_type": "markdown",
   "metadata": {
    "collapsed": false,
    "id": "fRI3i4GtQPSO"
   },
   "source": [
    "Additionally, we can use elif statements to add additional conditions to the structure."
   ]
  },
  {
   "cell_type": "code",
   "execution_count": 0,
   "metadata": {
    "colab": {
     "base_uri": "https://localhost:8080/"
    },
    "collapsed": false,
    "id": "KqnXKM2fQPSO",
    "outputId": "0e6b4490-1b02-40d0-db5e-aafb906e31b9"
   },
   "outputs": [
    {
     "name": "stdout",
     "output_type": "stream",
     "text": [
      "a equals b\n"
     ]
    }
   ],
   "source": [
    "a = 1\n",
    "b = 1\n",
    "if a > b:\n",
    "    print(\"a is greater than b\")\n",
    "elif a == b:\n",
    "    print(\"a equals b\")\n",
    "else:\n",
    "    print(\"b is less than a\")"
   ]
  },
  {
   "cell_type": "markdown",
   "metadata": {
    "collapsed": false,
    "id": "wjW9z8CRQPSO"
   },
   "source": [
    "Now its your turn. Either break up into 3 teams and have each team solve one of the blocks or solve them all together."
   ]
  },
  {
   "cell_type": "markdown",
   "metadata": {
    "collapsed": false,
    "id": "RcbZ9NNyQPSO"
   },
   "source": [
    "In the next block, create a for loop that counts from 0 to 10 and prints out each number. Additionally, if the number is less than 3, print out \"This is a small number\"."
   ]
  },
  {
   "cell_type": "code",
   "execution_count": 11,
   "metadata": {
    "collapsed": false,
    "id": "i1MZIEIAQPSO"
   },
   "outputs": [
    {
     "name": "stdout",
     "output_type": "stream",
     "text": [
      "0\n",
      "This is a small number\n",
      "1\n",
      "This is a small number\n",
      "2\n",
      "This is a small number\n",
      "3\n",
      "4\n",
      "5\n",
      "6\n",
      "7\n",
      "8\n",
      "9\n",
      "10\n"
     ]
    }
   ],
   "source": [
    "for i in range(11):\n",
    "    print(i)\n",
    "    if i<3:\n",
    "        print(\"This is a small number\")"
   ]
  },
  {
   "cell_type": "markdown",
   "metadata": {
    "collapsed": false,
    "id": "Ya1WOHEYQPSP"
   },
   "source": [
    "In the next block, create a while loop that prints out all of the even numbers between 1 and 10. Additionally, if the number is between 5 and 9, print the number out a second time."
   ]
  },
  {
   "cell_type": "code",
   "execution_count": 14,
   "metadata": {
    "collapsed": false,
    "id": "bfDfn7QqQPSP"
   },
   "outputs": [
    {
     "name": "stdout",
     "output_type": "stream",
     "text": [
      "2\n",
      "4\n",
      "6\n",
      "6\n",
      "8\n",
      "8\n",
      "10\n"
     ]
    }
   ],
   "source": [
    "i = 1\n",
    "while i<11:\n",
    "    if i%2 == 0:\n",
    "        print(i)\n",
    "        if 5<i<9:\n",
    "            print(i)\n",
    "    i += 1"
   ]
  },
  {
   "cell_type": "markdown",
   "metadata": {
    "collapsed": false,
    "id": "_HlQPTo3QPSP"
   },
   "source": [
    "In the next block, ask the user to input 3 items and add them all to a list. Then. create a loop that prints out each item that the user entered."
   ]
  },
  {
   "cell_type": "code",
   "execution_count": 15,
   "metadata": {
    "cocalc": {
     "outputs": {
      "0": {
       "name": "input",
       "opts": {
        "password": false,
        "prompt": "Input 3 items with spaces between them"
       },
       "output_type": "stream",
       "value": "Apples Oranges Bananas"
      }
     }
    },
    "collapsed": false,
    "id": "fmuVGS97QPSP"
   },
   "outputs": [
    {
     "name": "stdout",
     "output_type": "stream",
     "text": "Input 3 items with spaces between them Apples Oranges Bananas"
    },
    {
     "name": "stdout",
     "output_type": "stream",
     "text": [
      "Apples\n",
      "Oranges\n",
      "Bananas\n"
     ]
    }
   ],
   "source": [
    "items = input(\"Input 3 items with spaces between them\").split()\n",
    "for i in items:\n",
    "    print(i)"
   ]
  },
  {
   "cell_type": "markdown",
   "metadata": {
    "collapsed": false,
    "id": "o-mm3dAcQPSP"
   },
   "source": [
    "### Functions"
   ]
  },
  {
   "cell_type": "markdown",
   "metadata": {
    "collapsed": false,
    "id": "aemAHfB4QPSP"
   },
   "source": [
    "Functions act like variables but instead of storing a value, they store lines of code. Below we can see how a function is created and used."
   ]
  },
  {
   "cell_type": "code",
   "execution_count": 0,
   "metadata": {
    "collapsed": false,
    "id": "1d-Rq_JjQPSQ"
   },
   "outputs": [
   ],
   "source": [
    "def my_first_function():\n",
    "    print('Hello world')"
   ]
  },
  {
   "cell_type": "code",
   "execution_count": 0,
   "metadata": {
    "colab": {
     "base_uri": "https://localhost:8080/"
    },
    "collapsed": false,
    "id": "bUc2IWbKQPSQ",
    "outputId": "7b42c258-650a-463a-8279-3e7f7bd3c2c7"
   },
   "outputs": [
    {
     "name": "stdout",
     "output_type": "stream",
     "text": [
      "Hello world\n"
     ]
    }
   ],
   "source": [
    "my_first_function()"
   ]
  },
  {
   "cell_type": "markdown",
   "metadata": {
    "collapsed": false,
    "id": "GTZ6ePf4QPSQ"
   },
   "source": [
    "Whenever the computer sees the function being used, it automatically runs the code stored inside of that function."
   ]
  },
  {
   "cell_type": "markdown",
   "metadata": {
    "collapsed": false,
    "id": "7IdW6EBEQPSQ"
   },
   "source": [
    "Additionally, functions can take in one or multiple values to use in their code, as we can see below."
   ]
  },
  {
   "cell_type": "code",
   "execution_count": 0,
   "metadata": {
    "collapsed": false,
    "id": "vdvERGqhQPSQ"
   },
   "outputs": [
   ],
   "source": [
    "def add_numbers(a, b, c):\n",
    "    total = a + b + c\n",
    "    print(total)"
   ]
  },
  {
   "cell_type": "code",
   "execution_count": 0,
   "metadata": {
    "colab": {
     "base_uri": "https://localhost:8080/"
    },
    "collapsed": false,
    "id": "hCzjHwmQQPSQ",
    "outputId": "d7d5c314-cb20-464d-977b-e709b0fa174e"
   },
   "outputs": [
    {
     "name": "stdout",
     "output_type": "stream",
     "text": [
      "6\n"
     ]
    }
   ],
   "source": [
    "add_numbers(1, 2, 3)"
   ]
  },
  {
   "cell_type": "markdown",
   "metadata": {
    "collapsed": false,
    "id": "G5DqQXXhQPSQ"
   },
   "source": [
    "Finnally, functions can have a \"return\" statement. This is what the function sends back to the place it was called. You can think of functions like black boxes where the parameters in the parentheses are the input and the return statement is the output. This output can be saved to a variable to be used later. We will redefine the add_numbers function from above using a return statement to show this off."
   ]
  },
  {
   "cell_type": "code",
   "execution_count": 0,
   "metadata": {
    "collapsed": false,
    "id": "uLcQ-es8QPSR"
   },
   "outputs": [
   ],
   "source": [
    "def add_numbers(a, b, c):\n",
    "    total = a + b + c\n",
    "    return total"
   ]
  },
  {
   "cell_type": "code",
   "execution_count": 0,
   "metadata": {
    "colab": {
     "base_uri": "https://localhost:8080/"
    },
    "collapsed": false,
    "id": "iB4Vf2jcQPSR",
    "outputId": "fd3b4732-928e-4120-f13c-17599e818c37"
   },
   "outputs": [
    {
     "data": {
      "text/plain": [
       "6"
      ]
     },
     "execution_count": 0,
     "metadata": {
     },
     "output_type": "execute_result"
    }
   ],
   "source": [
    "out = add_numbers(1, 2, 3)\n",
    "out"
   ]
  },
  {
   "cell_type": "markdown",
   "metadata": {
    "collapsed": false,
    "id": "FgNa_pDHQPSR"
   },
   "source": [
    "Now its your turn! You can either work on each of the following challenges in teams of 2 or walk through each one as a group. In any case, it is recommended to look at them at a high level together so that everyone understands the concepts in each section."
   ]
  },
  {
   "cell_type": "markdown",
   "metadata": {
    "collapsed": false,
    "id": "jdhIClbLQPSR"
   },
   "source": [
    "In the block below, create a function that takes in 2 numbers and returns True if the product of the numbers is positive and False in all other cases."
   ]
  },
  {
   "cell_type": "code",
   "execution_count": 25,
   "metadata": {
    "collapsed": false,
    "id": "ISzO6E8EQPSR"
   },
   "outputs": [
   ],
   "source": [
    "def is_positive(a,b):\n",
    "    if a*b>0:\n",
    "        return True\n",
    "    return False"
   ]
  },
  {
   "cell_type": "code",
   "execution_count": 26,
   "metadata": {
    "collapsed": false
   },
   "outputs": [
    {
     "data": {
      "text/plain": [
       "True"
      ]
     },
     "execution_count": 26,
     "metadata": {
     },
     "output_type": "execute_result"
    }
   ],
   "source": [
    "is_positive(5,5)"
   ]
  },
  {
   "cell_type": "code",
   "execution_count": 27,
   "metadata": {
    "collapsed": false
   },
   "outputs": [
    {
     "data": {
      "text/plain": [
       "False"
      ]
     },
     "execution_count": 27,
     "metadata": {
     },
     "output_type": "execute_result"
    }
   ],
   "source": [
    "is_positive(5,-7)"
   ]
  },
  {
   "cell_type": "code",
   "execution_count": 29,
   "metadata": {
    "collapsed": false
   },
   "outputs": [
    {
     "data": {
      "text/plain": [
       "False"
      ]
     },
     "execution_count": 29,
     "metadata": {
     },
     "output_type": "execute_result"
    }
   ],
   "source": [
    "is_positive(5,0)"
   ]
  },
  {
   "cell_type": "markdown",
   "metadata": {
    "collapsed": false,
    "id": "xTdLtZ6oQPSR"
   },
   "source": [
    "In the block below, create a function that takes in a string and returns the string in reverse order. For example, if the input was \"Hello\" the output should be \"olleH\"\n",
    "\n"
   ]
  },
  {
   "cell_type": "code",
   "execution_count": 30,
   "metadata": {
    "collapsed": false,
    "id": "zfxKJdXUQPSR"
   },
   "outputs": [
   ],
   "source": [
    "def reverse_string(string):\n",
    "    return string[::-1]"
   ]
  },
  {
   "cell_type": "code",
   "execution_count": 32,
   "metadata": {
    "collapsed": false
   },
   "outputs": [
    {
     "data": {
      "text/plain": [
       "'dlrow olleH'"
      ]
     },
     "execution_count": 32,
     "metadata": {
     },
     "output_type": "execute_result"
    }
   ],
   "source": [
    "reverse_string(\"Hello world\")"
   ]
  },
  {
   "cell_type": "markdown",
   "metadata": {
    "collapsed": false,
    "id": "RHk-3utjQPSR"
   },
   "source": [
    "In the block below, create a function that takes in a list and prints out each element 1 at a time. For example, if the input was ['Dog', 'Cat', 'Hamster'], the output should be\n",
    "\n",
    "Dog\n",
    "\n",
    "Cat\n",
    "\n",
    "Hamster\n",
    "\n"
   ]
  },
  {
   "cell_type": "code",
   "execution_count": 40,
   "metadata": {
    "collapsed": false,
    "id": "k2IxEL5GQPSS"
   },
   "outputs": [
   ],
   "source": [
    "def print_all(mylist):\n",
    "    for i in mylist:\n",
    "        print(i)\n",
    "        print(\"\\n\")"
   ]
  },
  {
   "cell_type": "code",
   "execution_count": 41,
   "metadata": {
    "collapsed": false
   },
   "outputs": [
    {
     "name": "stdout",
     "output_type": "stream",
     "text": [
      "String\n",
      "\n",
      "\n",
      "Stuff\n",
      "\n",
      "\n",
      "Dog\n",
      "\n",
      "\n"
     ]
    }
   ],
   "source": [
    "print_all([\"String\", \"Stuff\", \"Dog\"])"
   ]
  },
  {
   "cell_type": "markdown",
   "metadata": {
    "collapsed": false,
    "id": "ZQzAmW9EQPSS"
   },
   "source": [
    "### Modules (Numpy and OpenCV)\n",
    "\n"
   ]
  },
  {
   "cell_type": "markdown",
   "metadata": {
    "collapsed": false,
    "id": "DoBzshOfQPSS"
   },
   "source": [
    "In the following section we will be covering modules. Above, we leaned about functions and the power that they have. Modules let us use functions that other people have created to solve problems that we commonly incounter. For example, if we find that we frequently have to get a random number, instead of coding it every time, you could just import a function that either you or someone else created in the past. Basically, modules and importing lets us have access to the work of many other coders, making it a very powerful tool."
   ]
  },
  {
   "cell_type": "markdown",
   "metadata": {
    "collapsed": false,
    "id": "YMj1Q1Y1QPSS"
   },
   "source": [
    "Below, we will import the numpy module and use a few of its functions to show off this power"
   ]
  },
  {
   "cell_type": "markdown",
   "metadata": {
    "collapsed": false,
    "id": "To484kDEQPSS"
   },
   "source": [
    "Here, we rename it to np to make it more easily accessable\n",
    "\n"
   ]
  },
  {
   "cell_type": "code",
   "execution_count": 37,
   "metadata": {
    "collapsed": false,
    "id": "3DvgKoTLQPSS"
   },
   "outputs": [
   ],
   "source": [
    "import numpy as np"
   ]
  },
  {
   "cell_type": "markdown",
   "metadata": {
    "collapsed": false,
    "id": "TerJarLUQPSS"
   },
   "source": [
    "Numpy is a library which is coded outside of python, making it faster. It gives us access to better and more efficient lists\n",
    "\n",
    "With it, we can make a list like this:"
   ]
  },
  {
   "cell_type": "code",
   "execution_count": 38,
   "metadata": {
    "colab": {
     "base_uri": "https://localhost:8080/"
    },
    "collapsed": false,
    "id": "hL0rMwfGQPSS",
    "outputId": "c2c570e9-0ce3-4acf-d688-113df7ebaf0c"
   },
   "outputs": [
    {
     "data": {
      "text/plain": [
       "array([[0., 0., 0.],\n",
       "       [0., 0., 0.]])"
      ]
     },
     "execution_count": 38,
     "metadata": {
     },
     "output_type": "execute_result"
    }
   ],
   "source": [
    "my_array = np.zeros((2,3)) # (2,3) is the shape of the array\n",
    "my_array"
   ]
  },
  {
   "cell_type": "markdown",
   "metadata": {
    "collapsed": false,
    "id": "-pwjOYSVQPST"
   },
   "source": [
    "or like this:"
   ]
  },
  {
   "cell_type": "code",
   "execution_count": 3,
   "metadata": {
    "colab": {
     "base_uri": "https://localhost:8080/"
    },
    "collapsed": false,
    "id": "AI-2_3UFQPST",
    "outputId": "1daf097c-f701-49ac-95b2-89af11bcadfa"
   },
   "outputs": [
    {
     "data": {
      "text/plain": [
       "array([[0.04912864, 0.60777123],\n",
       "       [0.5187959 , 0.35016874],\n",
       "       [0.36002124, 0.94697975]])"
      ]
     },
     "execution_count": 3,
     "metadata": {
     },
     "output_type": "execute_result"
    }
   ],
   "source": [
    "np.random.rand(3,2) # we don't need to put the shape in braces this time"
   ]
  },
  {
   "cell_type": "markdown",
   "metadata": {
    "collapsed": false,
    "id": "Oj3NxYvIQPST"
   },
   "source": [
    "Just like regular variables, we can do opperations on this list"
   ]
  },
  {
   "cell_type": "code",
   "execution_count": 46,
   "metadata": {
    "colab": {
     "base_uri": "https://localhost:8080/"
    },
    "collapsed": false,
    "id": "6tsG7vi7QPST",
    "outputId": "1eac7ad8-caec-4eb0-9aaa-0034271058cf"
   },
   "outputs": [
    {
     "data": {
      "text/plain": [
       "(array([[1., 1., 1.],\n",
       "        [1., 1., 1.]]),\n",
       " array([[2., 2., 2.],\n",
       "        [2., 2., 2.]]))"
      ]
     },
     "execution_count": 46,
     "metadata": {
     },
     "output_type": "execute_result"
    }
   ],
   "source": [
    "my_array2 = my_array + 1\n",
    "my_array3 = my_array2 * 2\n",
    "my_array2, my_array3"
   ]
  },
  {
   "cell_type": "markdown",
   "metadata": {
    "collapsed": false,
    "id": "lSdXMubIQPST"
   },
   "source": [
    "Make an array from my_array of all -3s:"
   ]
  },
  {
   "cell_type": "code",
   "execution_count": 39,
   "metadata": {
    "collapsed": false,
    "id": "U8XkZZwXQPST"
   },
   "outputs": [
    {
     "data": {
      "text/plain": [
       "array([[-3., -3., -3.],\n",
       "       [-3., -3., -3.]])"
      ]
     },
     "execution_count": 39,
     "metadata": {
     },
     "output_type": "execute_result"
    }
   ],
   "source": [
    "my_array4 = my_array - 3\n",
    "my_array4"
   ]
  },
  {
   "cell_type": "code",
   "execution_count": 4,
   "metadata": {
    "collapsed": false,
    "scrolled": true
   },
   "outputs": [
    {
     "name": "stdout",
     "output_type": "stream",
     "text": [
      "Requirement already satisfied: opencv-python in /projects/dbe22d81-d100-4bb1-a81a-15517019b209/.local/lib/python3.8/site-packages (4.6.0.66)\r\n",
      "Requirement already satisfied: numpy>=1.14.5 in /projects/dbe22d81-d100-4bb1-a81a-15517019b209/miniconda3/envs/cv_env/lib/python3.8/site-packages (from opencv-python) (1.22.3)\r\n"
     ]
    },
    {
     "name": "stdout",
     "output_type": "stream",
     "text": [
      "Note: you may need to restart the kernel to use updated packages.\n"
     ]
    }
   ],
   "source": [
    "pip install opencv-python"
   ]
  },
  {
   "cell_type": "code",
   "execution_count": 35,
   "metadata": {
    "collapsed": false,
    "scrolled": true
   },
   "outputs": [
    {
     "name": "stdout",
     "output_type": "stream",
     "text": [
      "Collecting google.colab\r\n",
      "  Using cached google_colab-1.0.0-py2.py3-none-any.whl\r\n",
      "Requirement already satisfied: ipython~=5.5.0 in /projects/dbe22d81-d100-4bb1-a81a-15517019b209/miniconda3/envs/cv_env/lib/python3.8/site-packages (from google.colab) (5.5.0)\r\n",
      "Requirement already satisfied: ipykernel~=4.6.0 in /projects/dbe22d81-d100-4bb1-a81a-15517019b209/miniconda3/envs/cv_env/lib/python3.8/site-packages (from google.colab) (4.6.1)\r\n"
     ]
    },
    {
     "name": "stdout",
     "output_type": "stream",
     "text": [
      "Collecting google-auth~=1.4.0\r\n",
      "  Using cached google_auth-1.4.2-py2.py3-none-any.whl (64 kB)\r\n",
      "Requirement already satisfied: six~=1.12.0 in /projects/dbe22d81-d100-4bb1-a81a-15517019b209/miniconda3/envs/cv_env/lib/python3.8/site-packages (from google.colab) (1.12.0)\r\n",
      "Requirement already satisfied: portpicker~=1.2.0 in /projects/dbe22d81-d100-4bb1-a81a-15517019b209/miniconda3/envs/cv_env/lib/python3.8/site-packages (from google.colab) (1.2.0)\r\n",
      "Requirement already satisfied: requests~=2.21.0 in /projects/dbe22d81-d100-4bb1-a81a-15517019b209/miniconda3/envs/cv_env/lib/python3.8/site-packages (from google.colab) (2.21.0)\r\n"
     ]
    },
    {
     "name": "stdout",
     "output_type": "stream",
     "text": [
      "Collecting pandas~=0.24.0\r\n"
     ]
    },
    {
     "name": "stdout",
     "output_type": "stream",
     "text": [
      "  Using cached pandas-0.24.2.tar.gz (11.8 MB)\r\n"
     ]
    },
    {
     "name": "stdout",
     "output_type": "stream",
     "text": [
      "Requirement already satisfied: tornado~=4.5.0 in /projects/dbe22d81-d100-4bb1-a81a-15517019b209/miniconda3/envs/cv_env/lib/python3.8/site-packages (from google.colab) (4.5.3)\r\n"
     ]
    },
    {
     "name": "stdout",
     "output_type": "stream",
     "text": [
      "Collecting notebook~=5.2.0\r\n",
      "  Using cached notebook-5.2.2-py2.py3-none-any.whl (8.0 MB)\r\n"
     ]
    },
    {
     "name": "stdout",
     "output_type": "stream",
     "text": [
      "Requirement already satisfied: cachetools>=2.0.0 in /projects/dbe22d81-d100-4bb1-a81a-15517019b209/miniconda3/envs/cv_env/lib/python3.8/site-packages (from google-auth~=1.4.0->google.colab) (4.2.2)\r\n",
      "Requirement already satisfied: pyasn1-modules>=0.2.1 in /projects/dbe22d81-d100-4bb1-a81a-15517019b209/miniconda3/envs/cv_env/lib/python3.8/site-packages (from google-auth~=1.4.0->google.colab) (0.2.8)\r\n",
      "Requirement already satisfied: rsa>=3.1.4 in /projects/dbe22d81-d100-4bb1-a81a-15517019b209/miniconda3/envs/cv_env/lib/python3.8/site-packages (from google-auth~=1.4.0->google.colab) (4.7.2)\r\n"
     ]
    },
    {
     "name": "stdout",
     "output_type": "stream",
     "text": [
      "Requirement already satisfied: traitlets>=4.1.0 in /projects/dbe22d81-d100-4bb1-a81a-15517019b209/miniconda3/envs/cv_env/lib/python3.8/site-packages (from ipykernel~=4.6.0->google.colab) (5.1.1)\r\n",
      "Requirement already satisfied: jupyter-client in /projects/dbe22d81-d100-4bb1-a81a-15517019b209/miniconda3/envs/cv_env/lib/python3.8/site-packages (from ipykernel~=4.6.0->google.colab) (7.1.2)\r\n"
     ]
    },
    {
     "name": "stdout",
     "output_type": "stream",
     "text": [
      "Requirement already satisfied: decorator in /projects/dbe22d81-d100-4bb1-a81a-15517019b209/miniconda3/envs/cv_env/lib/python3.8/site-packages (from ipython~=5.5.0->google.colab) (5.1.1)\r\n",
      "Requirement already satisfied: pickleshare in /projects/dbe22d81-d100-4bb1-a81a-15517019b209/miniconda3/envs/cv_env/lib/python3.8/site-packages (from ipython~=5.5.0->google.colab) (0.7.5)\r\n",
      "Requirement already satisfied: pygments in /projects/dbe22d81-d100-4bb1-a81a-15517019b209/miniconda3/envs/cv_env/lib/python3.8/site-packages (from ipython~=5.5.0->google.colab) (2.11.2)\r\n",
      "Requirement already satisfied: pexpect in /projects/dbe22d81-d100-4bb1-a81a-15517019b209/miniconda3/envs/cv_env/lib/python3.8/site-packages (from ipython~=5.5.0->google.colab) (4.8.0)\r\n",
      "Requirement already satisfied: prompt-toolkit<2.0.0,>=1.0.4 in /projects/dbe22d81-d100-4bb1-a81a-15517019b209/miniconda3/envs/cv_env/lib/python3.8/site-packages (from ipython~=5.5.0->google.colab) (1.0.18)\r\n",
      "Requirement already satisfied: setuptools>=18.5 in /projects/dbe22d81-d100-4bb1-a81a-15517019b209/miniconda3/envs/cv_env/lib/python3.8/site-packages (from ipython~=5.5.0->google.colab) (61.2.0)\r\n",
      "Requirement already satisfied: simplegeneric>0.8 in /projects/dbe22d81-d100-4bb1-a81a-15517019b209/miniconda3/envs/cv_env/lib/python3.8/site-packages (from ipython~=5.5.0->google.colab) (0.8.1)\r\n"
     ]
    },
    {
     "name": "stdout",
     "output_type": "stream",
     "text": [
      "Requirement already satisfied: nbconvert in /projects/dbe22d81-d100-4bb1-a81a-15517019b209/miniconda3/envs/cv_env/lib/python3.8/site-packages (from notebook~=5.2.0->google.colab) (6.4.4)\r\n",
      "Requirement already satisfied: jinja2 in /projects/dbe22d81-d100-4bb1-a81a-15517019b209/miniconda3/envs/cv_env/lib/python3.8/site-packages (from notebook~=5.2.0->google.colab) (3.0.3)\r\n",
      "Requirement already satisfied: jupyter-core in /projects/dbe22d81-d100-4bb1-a81a-15517019b209/miniconda3/envs/cv_env/lib/python3.8/site-packages (from notebook~=5.2.0->google.colab) (4.9.2)\r\n",
      "Requirement already satisfied: ipython-genutils in /projects/dbe22d81-d100-4bb1-a81a-15517019b209/miniconda3/envs/cv_env/lib/python3.8/site-packages (from notebook~=5.2.0->google.colab) (0.2.0)\r\n",
      "Requirement already satisfied: nbformat in /projects/dbe22d81-d100-4bb1-a81a-15517019b209/miniconda3/envs/cv_env/lib/python3.8/site-packages (from notebook~=5.2.0->google.colab) (5.3.0)\r\n",
      "Requirement already satisfied: terminado>=0.3.3 in /projects/dbe22d81-d100-4bb1-a81a-15517019b209/miniconda3/envs/cv_env/lib/python3.8/site-packages (from notebook~=5.2.0->google.colab) (0.13.1)\r\n",
      "Requirement already satisfied: python-dateutil>=2.5.0 in /projects/dbe22d81-d100-4bb1-a81a-15517019b209/miniconda3/envs/cv_env/lib/python3.8/site-packages (from pandas~=0.24.0->google.colab) (2.8.2)\r\n",
      "Requirement already satisfied: pytz>=2011k in /projects/dbe22d81-d100-4bb1-a81a-15517019b209/miniconda3/envs/cv_env/lib/python3.8/site-packages (from pandas~=0.24.0->google.colab) (2021.3)\r\n",
      "Requirement already satisfied: numpy>=1.12.0 in /projects/dbe22d81-d100-4bb1-a81a-15517019b209/miniconda3/envs/cv_env/lib/python3.8/site-packages (from pandas~=0.24.0->google.colab) (1.22.3)\r\n"
     ]
    },
    {
     "name": "stdout",
     "output_type": "stream",
     "text": [
      "Requirement already satisfied: wcwidth in /projects/dbe22d81-d100-4bb1-a81a-15517019b209/miniconda3/envs/cv_env/lib/python3.8/site-packages (from prompt-toolkit<2.0.0,>=1.0.4->ipython~=5.5.0->google.colab) (0.2.5)\r\n",
      "Requirement already satisfied: pyasn1<0.5.0,>=0.4.6 in /projects/dbe22d81-d100-4bb1-a81a-15517019b209/miniconda3/envs/cv_env/lib/python3.8/site-packages (from pyasn1-modules>=0.2.1->google-auth~=1.4.0->google.colab) (0.4.8)\r\n",
      "Requirement already satisfied: idna<2.9,>=2.5 in /projects/dbe22d81-d100-4bb1-a81a-15517019b209/miniconda3/envs/cv_env/lib/python3.8/site-packages (from requests~=2.21.0->google.colab) (2.8)\r\n",
      "Requirement already satisfied: certifi>=2017.4.17 in /projects/dbe22d81-d100-4bb1-a81a-15517019b209/miniconda3/envs/cv_env/lib/python3.8/site-packages (from requests~=2.21.0->google.colab) (2021.10.8)\r\n",
      "Requirement already satisfied: urllib3<1.25,>=1.21.1 in /projects/dbe22d81-d100-4bb1-a81a-15517019b209/miniconda3/envs/cv_env/lib/python3.8/site-packages (from requests~=2.21.0->google.colab) (1.24.3)\r\n",
      "Requirement already satisfied: chardet<3.1.0,>=3.0.2 in /projects/dbe22d81-d100-4bb1-a81a-15517019b209/miniconda3/envs/cv_env/lib/python3.8/site-packages (from requests~=2.21.0->google.colab) (3.0.4)\r\n"
     ]
    },
    {
     "name": "stdout",
     "output_type": "stream",
     "text": [
      "Requirement already satisfied: ptyprocess in /projects/dbe22d81-d100-4bb1-a81a-15517019b209/miniconda3/envs/cv_env/lib/python3.8/site-packages (from terminado>=0.3.3->notebook~=5.2.0->google.colab) (0.7.0)\r\n"
     ]
    },
    {
     "name": "stdout",
     "output_type": "stream",
     "text": [
      "Requirement already satisfied: MarkupSafe>=2.0 in /projects/dbe22d81-d100-4bb1-a81a-15517019b209/miniconda3/envs/cv_env/lib/python3.8/site-packages (from jinja2->notebook~=5.2.0->google.colab) (2.0.1)\r\n"
     ]
    },
    {
     "name": "stdout",
     "output_type": "stream",
     "text": [
      "Requirement already satisfied: pyzmq>=13 in /projects/dbe22d81-d100-4bb1-a81a-15517019b209/miniconda3/envs/cv_env/lib/python3.8/site-packages (from jupyter-client->ipykernel~=4.6.0->google.colab) (22.3.0)\r\n",
      "Requirement already satisfied: entrypoints in /projects/dbe22d81-d100-4bb1-a81a-15517019b209/miniconda3/envs/cv_env/lib/python3.8/site-packages (from jupyter-client->ipykernel~=4.6.0->google.colab) (0.4)\r\n",
      "Requirement already satisfied: nest-asyncio>=1.5 in /projects/dbe22d81-d100-4bb1-a81a-15517019b209/miniconda3/envs/cv_env/lib/python3.8/site-packages (from jupyter-client->ipykernel~=4.6.0->google.colab) (1.5.5)\r\n"
     ]
    },
    {
     "name": "stdout",
     "output_type": "stream",
     "text": [
      "Requirement already satisfied: testpath in /projects/dbe22d81-d100-4bb1-a81a-15517019b209/miniconda3/envs/cv_env/lib/python3.8/site-packages (from nbconvert->notebook~=5.2.0->google.colab) (0.5.0)\r\n",
      "Requirement already satisfied: nbclient<0.6.0,>=0.5.0 in /projects/dbe22d81-d100-4bb1-a81a-15517019b209/miniconda3/envs/cv_env/lib/python3.8/site-packages (from nbconvert->notebook~=5.2.0->google.colab) (0.5.13)\r\n",
      "Requirement already satisfied: mistune<2,>=0.8.1 in /projects/dbe22d81-d100-4bb1-a81a-15517019b209/miniconda3/envs/cv_env/lib/python3.8/site-packages (from nbconvert->notebook~=5.2.0->google.colab) (0.8.4)\r\n",
      "Requirement already satisfied: pandocfilters>=1.4.1 in /projects/dbe22d81-d100-4bb1-a81a-15517019b209/miniconda3/envs/cv_env/lib/python3.8/site-packages (from nbconvert->notebook~=5.2.0->google.colab) (1.5.0)\r\n",
      "Requirement already satisfied: bleach in /projects/dbe22d81-d100-4bb1-a81a-15517019b209/miniconda3/envs/cv_env/lib/python3.8/site-packages (from nbconvert->notebook~=5.2.0->google.colab) (4.1.0)\r\n",
      "Requirement already satisfied: beautifulsoup4 in /projects/dbe22d81-d100-4bb1-a81a-15517019b209/miniconda3/envs/cv_env/lib/python3.8/site-packages (from nbconvert->notebook~=5.2.0->google.colab) (4.11.1)\r\n",
      "Requirement already satisfied: jupyterlab-pygments in /projects/dbe22d81-d100-4bb1-a81a-15517019b209/miniconda3/envs/cv_env/lib/python3.8/site-packages (from nbconvert->notebook~=5.2.0->google.colab) (0.1.2)\r\n",
      "Requirement already satisfied: defusedxml in /projects/dbe22d81-d100-4bb1-a81a-15517019b209/miniconda3/envs/cv_env/lib/python3.8/site-packages (from nbconvert->notebook~=5.2.0->google.colab) (0.7.1)\r\n"
     ]
    },
    {
     "name": "stdout",
     "output_type": "stream",
     "text": [
      "Requirement already satisfied: fastjsonschema in /projects/dbe22d81-d100-4bb1-a81a-15517019b209/miniconda3/envs/cv_env/lib/python3.8/site-packages (from nbformat->notebook~=5.2.0->google.colab) (2.15.1)\r\n",
      "Requirement already satisfied: jsonschema>=2.6 in /projects/dbe22d81-d100-4bb1-a81a-15517019b209/miniconda3/envs/cv_env/lib/python3.8/site-packages (from nbformat->notebook~=5.2.0->google.colab) (4.4.0)\r\n"
     ]
    },
    {
     "name": "stdout",
     "output_type": "stream",
     "text": [
      "Requirement already satisfied: attrs>=17.4.0 in /projects/dbe22d81-d100-4bb1-a81a-15517019b209/miniconda3/envs/cv_env/lib/python3.8/site-packages (from jsonschema>=2.6->nbformat->notebook~=5.2.0->google.colab) (21.4.0)\r\n",
      "Requirement already satisfied: importlib-resources>=1.4.0 in /projects/dbe22d81-d100-4bb1-a81a-15517019b209/miniconda3/envs/cv_env/lib/python3.8/site-packages (from jsonschema>=2.6->nbformat->notebook~=5.2.0->google.colab) (5.2.0)\r\n",
      "Requirement already satisfied: pyrsistent!=0.17.0,!=0.17.1,!=0.17.2,>=0.14.0 in /projects/dbe22d81-d100-4bb1-a81a-15517019b209/miniconda3/envs/cv_env/lib/python3.8/site-packages (from jsonschema>=2.6->nbformat->notebook~=5.2.0->google.colab) (0.18.0)\r\n"
     ]
    },
    {
     "name": "stdout",
     "output_type": "stream",
     "text": [
      "Requirement already satisfied: zipp>=3.1.0 in /projects/dbe22d81-d100-4bb1-a81a-15517019b209/miniconda3/envs/cv_env/lib/python3.8/site-packages (from importlib-resources>=1.4.0->jsonschema>=2.6->nbformat->notebook~=5.2.0->google.colab) (3.8.0)\r\n"
     ]
    },
    {
     "name": "stdout",
     "output_type": "stream",
     "text": [
      "Requirement already satisfied: soupsieve>1.2 in /projects/dbe22d81-d100-4bb1-a81a-15517019b209/miniconda3/envs/cv_env/lib/python3.8/site-packages (from beautifulsoup4->nbconvert->notebook~=5.2.0->google.colab) (2.3.1)\r\n"
     ]
    },
    {
     "name": "stdout",
     "output_type": "stream",
     "text": [
      "Requirement already satisfied: packaging in /projects/dbe22d81-d100-4bb1-a81a-15517019b209/miniconda3/envs/cv_env/lib/python3.8/site-packages (from bleach->nbconvert->notebook~=5.2.0->google.colab) (21.3)\r\n",
      "Requirement already satisfied: webencodings in /projects/dbe22d81-d100-4bb1-a81a-15517019b209/miniconda3/envs/cv_env/lib/python3.8/site-packages (from bleach->nbconvert->notebook~=5.2.0->google.colab) (0.5.1)\r\n"
     ]
    },
    {
     "name": "stdout",
     "output_type": "stream",
     "text": [
      "Requirement already satisfied: pyparsing!=3.0.5,>=2.0.2 in /projects/dbe22d81-d100-4bb1-a81a-15517019b209/miniconda3/envs/cv_env/lib/python3.8/site-packages (from packaging->bleach->nbconvert->notebook~=5.2.0->google.colab) (3.0.4)\r\n"
     ]
    },
    {
     "name": "stdout",
     "output_type": "stream",
     "text": [
      "Building wheels for collected packages: pandas\r\n"
     ]
    },
    {
     "name": "stdout",
     "output_type": "stream",
     "text": [
      "  Building wheel for pandas (setup.py) ... \u001b[?25l-"
     ]
    },
    {
     "name": "stdout",
     "output_type": "stream",
     "text": [
      "\b \b\\"
     ]
    },
    {
     "name": "stdout",
     "output_type": "stream",
     "text": [
      "\b \b|"
     ]
    },
    {
     "name": "stdout",
     "output_type": "stream",
     "text": [
      "\b \b/"
     ]
    },
    {
     "name": "stdout",
     "output_type": "stream",
     "text": [
      "\b \b-"
     ]
    },
    {
     "name": "stdout",
     "output_type": "stream",
     "text": [
      "\b \b\\"
     ]
    },
    {
     "name": "stdout",
     "output_type": "stream",
     "text": [
      "\b \b|"
     ]
    },
    {
     "name": "stdout",
     "output_type": "stream",
     "text": [
      "\b \b/"
     ]
    },
    {
     "name": "stdout",
     "output_type": "stream",
     "text": [
      "\b \b-"
     ]
    },
    {
     "name": "stdout",
     "output_type": "stream",
     "text": [
      "\b \b\\"
     ]
    },
    {
     "name": "stdout",
     "output_type": "stream",
     "text": [
      "\b \b|"
     ]
    },
    {
     "name": "stdout",
     "output_type": "stream",
     "text": [
      "\b \b/"
     ]
    },
    {
     "name": "stdout",
     "output_type": "stream",
     "text": [
      "\b \b-"
     ]
    },
    {
     "name": "stdout",
     "output_type": "stream",
     "text": [
      "\b \b\\"
     ]
    },
    {
     "name": "stdout",
     "output_type": "stream",
     "text": [
      "\b \b|"
     ]
    },
    {
     "name": "stdout",
     "output_type": "stream",
     "text": [
      "\b \b/"
     ]
    },
    {
     "name": "stdout",
     "output_type": "stream",
     "text": [
      "\b \b-"
     ]
    },
    {
     "name": "stdout",
     "output_type": "stream",
     "text": [
      "\b \b\\"
     ]
    },
    {
     "name": "stdout",
     "output_type": "stream",
     "text": [
      "\b \b|"
     ]
    },
    {
     "name": "stdout",
     "output_type": "stream",
     "text": [
      "\b \b/"
     ]
    },
    {
     "name": "stdout",
     "output_type": "stream",
     "text": [
      "\b \b-"
     ]
    },
    {
     "name": "stdout",
     "output_type": "stream",
     "text": [
      "\b \b\\"
     ]
    },
    {
     "name": "stdout",
     "output_type": "stream",
     "text": [
      "\b \b|"
     ]
    },
    {
     "name": "stdout",
     "output_type": "stream",
     "text": [
      "\b \b/"
     ]
    },
    {
     "name": "stdout",
     "output_type": "stream",
     "text": [
      "\b \b-"
     ]
    },
    {
     "name": "stdout",
     "output_type": "stream",
     "text": [
      "\b \b\\"
     ]
    },
    {
     "name": "stdout",
     "output_type": "stream",
     "text": [
      "\b \b|"
     ]
    },
    {
     "name": "stdout",
     "output_type": "stream",
     "text": [
      "\b \b/"
     ]
    },
    {
     "name": "stdout",
     "output_type": "stream",
     "text": [
      "\b \b-"
     ]
    },
    {
     "name": "stdout",
     "output_type": "stream",
     "text": [
      "\b \b\\"
     ]
    },
    {
     "name": "stdout",
     "output_type": "stream",
     "text": [
      "\b \b|"
     ]
    },
    {
     "name": "stdout",
     "output_type": "stream",
     "text": [
      "\b \b/"
     ]
    },
    {
     "name": "stdout",
     "output_type": "stream",
     "text": [
      "\b \b-"
     ]
    },
    {
     "name": "stdout",
     "output_type": "stream",
     "text": [
      "\b \b\\"
     ]
    },
    {
     "name": "stdout",
     "output_type": "stream",
     "text": [
      "\b \b|"
     ]
    },
    {
     "name": "stdout",
     "output_type": "stream",
     "text": [
      "\b \b/"
     ]
    },
    {
     "name": "stdout",
     "output_type": "stream",
     "text": [
      "\b \b-"
     ]
    },
    {
     "name": "stdout",
     "output_type": "stream",
     "text": [
      "\b \b\\"
     ]
    },
    {
     "name": "stdout",
     "output_type": "stream",
     "text": [
      "\b \b|"
     ]
    },
    {
     "name": "stdout",
     "output_type": "stream",
     "text": [
      "\b \b/"
     ]
    },
    {
     "name": "stdout",
     "output_type": "stream",
     "text": [
      "\b \b-"
     ]
    },
    {
     "name": "stdout",
     "output_type": "stream",
     "text": [
      "\b \b\\"
     ]
    },
    {
     "name": "stdout",
     "output_type": "stream",
     "text": [
      "\b \b|"
     ]
    },
    {
     "name": "stdout",
     "output_type": "stream",
     "text": [
      "\b \b/"
     ]
    },
    {
     "name": "stdout",
     "output_type": "stream",
     "text": [
      "\b \b-"
     ]
    },
    {
     "name": "stdout",
     "output_type": "stream",
     "text": [
      "\b \b\\"
     ]
    },
    {
     "name": "stdout",
     "output_type": "stream",
     "text": [
      "\b \b|"
     ]
    },
    {
     "name": "stdout",
     "output_type": "stream",
     "text": [
      "\b \b/"
     ]
    },
    {
     "name": "stdout",
     "output_type": "stream",
     "text": [
      "\b \b-"
     ]
    },
    {
     "name": "stdout",
     "output_type": "stream",
     "text": [
      "\b \b\\"
     ]
    },
    {
     "name": "stdout",
     "output_type": "stream",
     "text": [
      "\b \b|"
     ]
    },
    {
     "name": "stdout",
     "output_type": "stream",
     "text": [
      "\b \b/"
     ]
    },
    {
     "name": "stdout",
     "output_type": "stream",
     "text": [
      "\b \b-"
     ]
    },
    {
     "name": "stdout",
     "output_type": "stream",
     "text": [
      "\b \b\\"
     ]
    },
    {
     "name": "stdout",
     "output_type": "stream",
     "text": [
      "\b \b|"
     ]
    },
    {
     "name": "stdout",
     "output_type": "stream",
     "text": [
      "\b \b/"
     ]
    },
    {
     "name": "stdout",
     "output_type": "stream",
     "text": [
      "\b \b-"
     ]
    },
    {
     "name": "stdout",
     "output_type": "stream",
     "text": [
      "\b \b\\"
     ]
    },
    {
     "name": "stdout",
     "output_type": "stream",
     "text": [
      "\b \b|"
     ]
    },
    {
     "name": "stdout",
     "output_type": "stream",
     "text": [
      "\b \b/"
     ]
    },
    {
     "name": "stdout",
     "output_type": "stream",
     "text": [
      "\b \b-"
     ]
    },
    {
     "name": "stdout",
     "output_type": "stream",
     "text": [
      "\b \b\\"
     ]
    },
    {
     "name": "stdout",
     "output_type": "stream",
     "text": [
      "\b \b|"
     ]
    },
    {
     "name": "stdout",
     "output_type": "stream",
     "text": [
      "\b \b/"
     ]
    },
    {
     "name": "stdout",
     "output_type": "stream",
     "text": [
      "\b \b-"
     ]
    },
    {
     "name": "stdout",
     "output_type": "stream",
     "text": [
      "\b \b\\"
     ]
    },
    {
     "name": "stdout",
     "output_type": "stream",
     "text": [
      "\b \b|"
     ]
    },
    {
     "name": "stdout",
     "output_type": "stream",
     "text": [
      "\b \b/"
     ]
    },
    {
     "name": "stdout",
     "output_type": "stream",
     "text": [
      "\b \b-"
     ]
    },
    {
     "name": "stdout",
     "output_type": "stream",
     "text": [
      "\b \b\\"
     ]
    },
    {
     "name": "stdout",
     "output_type": "stream",
     "text": [
      "\b \b|"
     ]
    },
    {
     "name": "stdout",
     "output_type": "stream",
     "text": [
      "\b \b/"
     ]
    },
    {
     "name": "stdout",
     "output_type": "stream",
     "text": [
      "\b \b-"
     ]
    },
    {
     "name": "stdout",
     "output_type": "stream",
     "text": [
      "\b \b\\"
     ]
    },
    {
     "name": "stdout",
     "output_type": "stream",
     "text": [
      "\b \b|"
     ]
    },
    {
     "name": "stdout",
     "output_type": "stream",
     "text": [
      "\b \b/"
     ]
    },
    {
     "name": "stdout",
     "output_type": "stream",
     "text": [
      "\b \b-"
     ]
    },
    {
     "name": "stdout",
     "output_type": "stream",
     "text": [
      "\b \b\\"
     ]
    },
    {
     "name": "stdout",
     "output_type": "stream",
     "text": [
      "\b \b|"
     ]
    },
    {
     "name": "stdout",
     "output_type": "stream",
     "text": [
      "\b \b/"
     ]
    },
    {
     "name": "stdout",
     "output_type": "stream",
     "text": [
      "\b \b-"
     ]
    },
    {
     "name": "stdout",
     "output_type": "stream",
     "text": [
      "\b \b\\"
     ]
    },
    {
     "name": "stdout",
     "output_type": "stream",
     "text": [
      "\b \b|"
     ]
    },
    {
     "name": "stdout",
     "output_type": "stream",
     "text": [
      "\b \b/"
     ]
    },
    {
     "name": "stdout",
     "output_type": "stream",
     "text": [
      "\b \b-"
     ]
    },
    {
     "name": "stdout",
     "output_type": "stream",
     "text": [
      "\b \b\\"
     ]
    },
    {
     "name": "stdout",
     "output_type": "stream",
     "text": [
      "\b \b|"
     ]
    },
    {
     "name": "stdout",
     "output_type": "stream",
     "text": [
      "\b \b/"
     ]
    },
    {
     "name": "stdout",
     "output_type": "stream",
     "text": [
      "\b \b-"
     ]
    },
    {
     "name": "stdout",
     "output_type": "stream",
     "text": [
      "\b \b\\"
     ]
    },
    {
     "name": "stdout",
     "output_type": "stream",
     "text": [
      "\b \b|"
     ]
    },
    {
     "name": "stdout",
     "output_type": "stream",
     "text": [
      "\b \b/"
     ]
    },
    {
     "name": "stdout",
     "output_type": "stream",
     "text": [
      "\b \b-"
     ]
    },
    {
     "name": "stdout",
     "output_type": "stream",
     "text": [
      "\b \b\\"
     ]
    },
    {
     "name": "stdout",
     "output_type": "stream",
     "text": [
      "\b \b|"
     ]
    },
    {
     "name": "stdout",
     "output_type": "stream",
     "text": [
      "\b \b/"
     ]
    },
    {
     "name": "stdout",
     "output_type": "stream",
     "text": [
      "\b \b-"
     ]
    },
    {
     "name": "stdout",
     "output_type": "stream",
     "text": [
      "\b \b\\"
     ]
    },
    {
     "name": "stdout",
     "output_type": "stream",
     "text": [
      "\b \b|"
     ]
    },
    {
     "name": "stdout",
     "output_type": "stream",
     "text": [
      "\b \b/"
     ]
    },
    {
     "name": "stdout",
     "output_type": "stream",
     "text": [
      "\b \b-"
     ]
    },
    {
     "name": "stdout",
     "output_type": "stream",
     "text": [
      "\b \b\\"
     ]
    },
    {
     "name": "stdout",
     "output_type": "stream",
     "text": [
      "\b \b|"
     ]
    },
    {
     "name": "stdout",
     "output_type": "stream",
     "text": [
      "\b \b/"
     ]
    },
    {
     "name": "stdout",
     "output_type": "stream",
     "text": [
      "\b \b-"
     ]
    },
    {
     "name": "stdout",
     "output_type": "stream",
     "text": [
      "\b \b\\"
     ]
    },
    {
     "name": "stdout",
     "output_type": "stream",
     "text": [
      "\b \b|"
     ]
    },
    {
     "name": "stdout",
     "output_type": "stream",
     "text": [
      "\b \b/"
     ]
    },
    {
     "name": "stdout",
     "output_type": "stream",
     "text": [
      "\b \b-"
     ]
    },
    {
     "name": "stdout",
     "output_type": "stream",
     "text": [
      "\b \b\\"
     ]
    },
    {
     "name": "stdout",
     "output_type": "stream",
     "text": [
      "\b \b|"
     ]
    },
    {
     "name": "stdout",
     "output_type": "stream",
     "text": [
      "\b \b/"
     ]
    },
    {
     "name": "stdout",
     "output_type": "stream",
     "text": [
      "\b \b-"
     ]
    },
    {
     "name": "stdout",
     "output_type": "stream",
     "text": [
      "\b \b\\"
     ]
    },
    {
     "name": "stdout",
     "output_type": "stream",
     "text": [
      "\b \b|"
     ]
    },
    {
     "name": "stdout",
     "output_type": "stream",
     "text": [
      "\b \b/"
     ]
    },
    {
     "name": "stdout",
     "output_type": "stream",
     "text": [
      "\b \b-"
     ]
    },
    {
     "name": "stdout",
     "output_type": "stream",
     "text": [
      "\b \b\\"
     ]
    },
    {
     "name": "stdout",
     "output_type": "stream",
     "text": [
      "\b \b|"
     ]
    },
    {
     "name": "stdout",
     "output_type": "stream",
     "text": [
      "\b \b/"
     ]
    },
    {
     "name": "stdout",
     "output_type": "stream",
     "text": [
      "\b \b-"
     ]
    },
    {
     "name": "stdout",
     "output_type": "stream",
     "text": [
      "\b \b\\"
     ]
    },
    {
     "name": "stdout",
     "output_type": "stream",
     "text": [
      "\b \b|"
     ]
    },
    {
     "name": "stdout",
     "output_type": "stream",
     "text": [
      "\b \b/"
     ]
    },
    {
     "name": "stdout",
     "output_type": "stream",
     "text": [
      "\b \b-"
     ]
    },
    {
     "name": "stdout",
     "output_type": "stream",
     "text": [
      "\b \b\\"
     ]
    },
    {
     "name": "stdout",
     "output_type": "stream",
     "text": [
      "\b \b|"
     ]
    },
    {
     "name": "stdout",
     "output_type": "stream",
     "text": [
      "\b \b/"
     ]
    },
    {
     "name": "stdout",
     "output_type": "stream",
     "text": [
      "\b \b-"
     ]
    },
    {
     "name": "stdout",
     "output_type": "stream",
     "text": [
      "\b \b\\"
     ]
    },
    {
     "name": "stdout",
     "output_type": "stream",
     "text": [
      "\b \b|"
     ]
    },
    {
     "name": "stdout",
     "output_type": "stream",
     "text": [
      "\b \b/"
     ]
    },
    {
     "name": "stdout",
     "output_type": "stream",
     "text": [
      "\b \b-"
     ]
    },
    {
     "name": "stdout",
     "output_type": "stream",
     "text": [
      "\b \b\\"
     ]
    },
    {
     "name": "stdout",
     "output_type": "stream",
     "text": [
      "\b \b|"
     ]
    },
    {
     "name": "stdout",
     "output_type": "stream",
     "text": [
      "\b \b/"
     ]
    },
    {
     "name": "stdout",
     "output_type": "stream",
     "text": [
      "\b \b-"
     ]
    },
    {
     "name": "stdout",
     "output_type": "stream",
     "text": [
      "\b \b\\"
     ]
    },
    {
     "name": "stdout",
     "output_type": "stream",
     "text": [
      "\b \b|"
     ]
    },
    {
     "name": "stdout",
     "output_type": "stream",
     "text": [
      "\b \b/"
     ]
    },
    {
     "name": "stdout",
     "output_type": "stream",
     "text": [
      "\b \b-"
     ]
    },
    {
     "name": "stdout",
     "output_type": "stream",
     "text": [
      "\b \b\\"
     ]
    },
    {
     "name": "stdout",
     "output_type": "stream",
     "text": [
      "\b \b|"
     ]
    },
    {
     "name": "stdout",
     "output_type": "stream",
     "text": [
      "\b \b/"
     ]
    },
    {
     "name": "stdout",
     "output_type": "stream",
     "text": [
      "\b \b-"
     ]
    },
    {
     "name": "stdout",
     "output_type": "stream",
     "text": [
      "\b \b\\"
     ]
    },
    {
     "name": "stdout",
     "output_type": "stream",
     "text": [
      "\b \b|"
     ]
    },
    {
     "name": "stdout",
     "output_type": "stream",
     "text": [
      "\b \b/"
     ]
    },
    {
     "name": "stdout",
     "output_type": "stream",
     "text": [
      "\b \b-"
     ]
    },
    {
     "name": "stdout",
     "output_type": "stream",
     "text": [
      "\b \b\\"
     ]
    },
    {
     "name": "stdout",
     "output_type": "stream",
     "text": [
      "\b \b|"
     ]
    },
    {
     "name": "stdout",
     "output_type": "stream",
     "text": [
      "\b \b/"
     ]
    },
    {
     "name": "stdout",
     "output_type": "stream",
     "text": [
      "\b \b-"
     ]
    },
    {
     "name": "stdout",
     "output_type": "stream",
     "text": [
      "\b \b\\"
     ]
    },
    {
     "name": "stdout",
     "output_type": "stream",
     "text": [
      "\b \b|"
     ]
    },
    {
     "name": "stdout",
     "output_type": "stream",
     "text": [
      "\b \b/"
     ]
    },
    {
     "name": "stdout",
     "output_type": "stream",
     "text": [
      "\b \b-"
     ]
    },
    {
     "name": "stdout",
     "output_type": "stream",
     "text": [
      "\b \b\\"
     ]
    },
    {
     "name": "stdout",
     "output_type": "stream",
     "text": [
      "\b \b|"
     ]
    },
    {
     "name": "stdout",
     "output_type": "stream",
     "text": [
      "\b \b/"
     ]
    },
    {
     "name": "stdout",
     "output_type": "stream",
     "text": [
      "\b \b-"
     ]
    },
    {
     "name": "stdout",
     "output_type": "stream",
     "text": [
      "\b \b\\"
     ]
    },
    {
     "name": "stdout",
     "output_type": "stream",
     "text": [
      "\b \b|"
     ]
    },
    {
     "name": "stdout",
     "output_type": "stream",
     "text": [
      "\b \b/"
     ]
    },
    {
     "name": "stdout",
     "output_type": "stream",
     "text": [
      "\b \b-"
     ]
    },
    {
     "name": "stdout",
     "output_type": "stream",
     "text": [
      "\b \b\\"
     ]
    },
    {
     "name": "stdout",
     "output_type": "stream",
     "text": [
      "\b \b|"
     ]
    },
    {
     "name": "stdout",
     "output_type": "stream",
     "text": [
      "\b \b/"
     ]
    },
    {
     "name": "stdout",
     "output_type": "stream",
     "text": [
      "\b \b-"
     ]
    },
    {
     "name": "stdout",
     "output_type": "stream",
     "text": [
      "\b \b\\"
     ]
    },
    {
     "name": "stdout",
     "output_type": "stream",
     "text": [
      "\b \b|"
     ]
    },
    {
     "name": "stdout",
     "output_type": "stream",
     "text": [
      "\b \b/"
     ]
    },
    {
     "name": "stdout",
     "output_type": "stream",
     "text": [
      "\b \b-"
     ]
    },
    {
     "name": "stdout",
     "output_type": "stream",
     "text": [
      "\b \b\\"
     ]
    },
    {
     "name": "stdout",
     "output_type": "stream",
     "text": [
      "\b \b|"
     ]
    },
    {
     "name": "stdout",
     "output_type": "stream",
     "text": [
      "\b \b/"
     ]
    },
    {
     "name": "stdout",
     "output_type": "stream",
     "text": [
      "\b \b-"
     ]
    },
    {
     "name": "stdout",
     "output_type": "stream",
     "text": [
      "\b \b\\"
     ]
    },
    {
     "name": "stdout",
     "output_type": "stream",
     "text": [
      "\b \b|"
     ]
    },
    {
     "name": "stdout",
     "output_type": "stream",
     "text": [
      "\b \b/"
     ]
    },
    {
     "name": "stdout",
     "output_type": "stream",
     "text": [
      "\b \b-"
     ]
    },
    {
     "name": "stdout",
     "output_type": "stream",
     "text": [
      "\b \b\\"
     ]
    },
    {
     "name": "stdout",
     "output_type": "stream",
     "text": [
      "\b \b|"
     ]
    },
    {
     "name": "stdout",
     "output_type": "stream",
     "text": [
      "\b \b/"
     ]
    },
    {
     "name": "stdout",
     "output_type": "stream",
     "text": [
      "\b \b-"
     ]
    },
    {
     "name": "stdout",
     "output_type": "stream",
     "text": [
      "\b \b\\"
     ]
    },
    {
     "name": "stdout",
     "output_type": "stream",
     "text": [
      "\b \b|"
     ]
    },
    {
     "name": "stdout",
     "output_type": "stream",
     "text": [
      "\b \b/"
     ]
    },
    {
     "name": "stdout",
     "output_type": "stream",
     "text": [
      "\b \b-"
     ]
    },
    {
     "name": "stdout",
     "output_type": "stream",
     "text": [
      "\b \b\\"
     ]
    },
    {
     "name": "stdout",
     "output_type": "stream",
     "text": [
      "\b \b|"
     ]
    },
    {
     "name": "stdout",
     "output_type": "stream",
     "text": [
      "\b \b/"
     ]
    },
    {
     "name": "stdout",
     "output_type": "stream",
     "text": [
      "\b \b-"
     ]
    },
    {
     "name": "stdout",
     "output_type": "stream",
     "text": [
      "\b \b\\"
     ]
    },
    {
     "name": "stdout",
     "output_type": "stream",
     "text": [
      "\b \b|"
     ]
    },
    {
     "name": "stdout",
     "output_type": "stream",
     "text": [
      "\b \b/"
     ]
    },
    {
     "name": "stdout",
     "output_type": "stream",
     "text": [
      "\b \b-"
     ]
    },
    {
     "name": "stdout",
     "output_type": "stream",
     "text": [
      "\b \b\\"
     ]
    },
    {
     "name": "stdout",
     "output_type": "stream",
     "text": [
      "\b \b|"
     ]
    },
    {
     "name": "stdout",
     "output_type": "stream",
     "text": [
      "\b \b/"
     ]
    },
    {
     "name": "stdout",
     "output_type": "stream",
     "text": [
      "\b \b-"
     ]
    },
    {
     "name": "stdout",
     "output_type": "stream",
     "text": [
      "\b \b\\"
     ]
    },
    {
     "name": "stdout",
     "output_type": "stream",
     "text": [
      "\b \b|"
     ]
    },
    {
     "name": "stdout",
     "output_type": "stream",
     "text": [
      "\b \b/"
     ]
    },
    {
     "name": "stdout",
     "output_type": "stream",
     "text": [
      "\b \b-"
     ]
    },
    {
     "name": "stdout",
     "output_type": "stream",
     "text": [
      "\b \b\\"
     ]
    },
    {
     "name": "stdout",
     "output_type": "stream",
     "text": [
      "\b \b|"
     ]
    },
    {
     "name": "stdout",
     "output_type": "stream",
     "text": [
      "\b \b/"
     ]
    },
    {
     "name": "stdout",
     "output_type": "stream",
     "text": [
      "\b \b-"
     ]
    },
    {
     "name": "stdout",
     "output_type": "stream",
     "text": [
      "\b \b\\"
     ]
    },
    {
     "name": "stdout",
     "output_type": "stream",
     "text": [
      "\b \b|"
     ]
    },
    {
     "name": "stdout",
     "output_type": "stream",
     "text": [
      "\b \b/"
     ]
    },
    {
     "name": "stdout",
     "output_type": "stream",
     "text": [
      "\b \b-"
     ]
    },
    {
     "name": "stdout",
     "output_type": "stream",
     "text": [
      "\b \b\\"
     ]
    },
    {
     "name": "stdout",
     "output_type": "stream",
     "text": [
      "\b \b|"
     ]
    },
    {
     "name": "stdout",
     "output_type": "stream",
     "text": [
      "\b \b/"
     ]
    },
    {
     "name": "stdout",
     "output_type": "stream",
     "text": [
      "\b \b-"
     ]
    },
    {
     "name": "stdout",
     "output_type": "stream",
     "text": [
      "\b \b\\"
     ]
    },
    {
     "name": "stdout",
     "output_type": "stream",
     "text": [
      "\b \b|"
     ]
    },
    {
     "name": "stdout",
     "output_type": "stream",
     "text": [
      "\b \b/"
     ]
    },
    {
     "name": "stdout",
     "output_type": "stream",
     "text": [
      "\b \b-"
     ]
    },
    {
     "name": "stdout",
     "output_type": "stream",
     "text": [
      "\b \b\\"
     ]
    },
    {
     "name": "stdout",
     "output_type": "stream",
     "text": [
      "\b \b|"
     ]
    },
    {
     "name": "stdout",
     "output_type": "stream",
     "text": [
      "\b \b/"
     ]
    },
    {
     "name": "stdout",
     "output_type": "stream",
     "text": [
      "\b \b-"
     ]
    },
    {
     "name": "stdout",
     "output_type": "stream",
     "text": [
      "\b \b\\"
     ]
    },
    {
     "name": "stdout",
     "output_type": "stream",
     "text": [
      "\b \b|"
     ]
    },
    {
     "name": "stdout",
     "output_type": "stream",
     "text": [
      "\b \b/"
     ]
    },
    {
     "name": "stderr",
     "output_type": "stream",
     "text": [
      "WARNING: Some output was deleted.\n"
     ]
    }
   ],
   "source": [
    "pip install google.colab"
   ]
  },
  {
   "cell_type": "code",
   "execution_count": 0,
   "metadata": {
    "collapsed": false
   },
   "outputs": [
   ],
   "source": [
   ]
  },
  {
   "cell_type": "code",
   "execution_count": 0,
   "metadata": {
    "collapsed": false
   },
   "outputs": [
   ],
   "source": [
   ]
  },
  {
   "cell_type": "code",
   "execution_count": 0,
   "metadata": {
    "collapsed": false
   },
   "outputs": [
   ],
   "source": [
   ]
  },
  {
   "cell_type": "markdown",
   "metadata": {
    "collapsed": false,
    "id": "JujQopnTRGBc"
   },
   "source": [
    "Now, it's time to explore some computer vision with OpenCv! First, we will need to import the necessary packages!"
   ]
  },
  {
   "cell_type": "code",
   "execution_count": 0,
   "metadata": {
    "collapsed": false
   },
   "outputs": [
   ],
   "source": [
   ]
  },
  {
   "cell_type": "code",
   "execution_count": 26,
   "metadata": {
    "collapsed": false,
    "id": "4Yt9kYPsRsex"
   },
   "outputs": [
   ],
   "source": [
    "import cv2\n",
    "from skimage import io\n",
    "#from google.colab.patches import cv2_imshow\n",
    "from matplotlib import pyplot as cv2_imshow"
   ]
  },
  {
   "cell_type": "code",
   "execution_count": 0,
   "metadata": {
    "collapsed": false
   },
   "outputs": [
   ],
   "source": [
   ]
  },
  {
   "cell_type": "code",
   "execution_count": 0,
   "metadata": {
    "collapsed": false
   },
   "outputs": [
   ],
   "source": [
   ]
  },
  {
   "cell_type": "code",
   "execution_count": 0,
   "metadata": {
    "collapsed": false
   },
   "outputs": [
   ],
   "source": [
   ]
  },
  {
   "cell_type": "code",
   "execution_count": 0,
   "metadata": {
    "collapsed": false
   },
   "outputs": [
   ],
   "source": [
   ]
  },
  {
   "cell_type": "code",
   "execution_count": 0,
   "metadata": {
    "collapsed": false
   },
   "outputs": [
   ],
   "source": [
   ]
  },
  {
   "cell_type": "code",
   "execution_count": 0,
   "metadata": {
    "collapsed": false
   },
   "outputs": [
   ],
   "source": [
   ]
  },
  {
   "cell_type": "code",
   "execution_count": 0,
   "metadata": {
    "collapsed": false
   },
   "outputs": [
   ],
   "source": [
   ]
  },
  {
   "cell_type": "code",
   "execution_count": 0,
   "metadata": {
    "collapsed": false
   },
   "outputs": [
   ],
   "source": [
   ]
  },
  {
   "cell_type": "code",
   "execution_count": 0,
   "metadata": {
    "collapsed": false
   },
   "outputs": [
   ],
   "source": [
   ]
  },
  {
   "cell_type": "markdown",
   "metadata": {
    "collapsed": false,
    "id": "4B9AUzneSXS_"
   },
   "source": [
    "First, we want to get the url of a particular image"
   ]
  },
  {
   "cell_type": "code",
   "execution_count": 22,
   "metadata": {
    "collapsed": false,
    "id": "6cFGy-7XSDkD"
   },
   "outputs": [
   ],
   "source": [
    "url = \"https://www.akc.org/wp-content/uploads/2017/11/GettyImages-187066830.jpg\""
   ]
  },
  {
   "cell_type": "code",
   "execution_count": 0,
   "metadata": {
    "collapsed": false
   },
   "outputs": [
   ],
   "source": [
   ]
  },
  {
   "cell_type": "code",
   "execution_count": 0,
   "metadata": {
    "collapsed": false
   },
   "outputs": [
   ],
   "source": [
   ]
  },
  {
   "cell_type": "markdown",
   "metadata": {
    "collapsed": false,
    "id": "BrKh22Q0ScJh"
   },
   "source": [
    "Next, we want to read the picture from the url and turn it into BGR format"
   ]
  },
  {
   "cell_type": "code",
   "execution_count": 0,
   "metadata": {
    "colab": {
     "base_uri": "https://localhost:8080/",
     "height": 529
    },
    "collapsed": false,
    "id": "Y5pacxDTSHI4",
    "outputId": "c49492f9-3c29-49d8-e32d-3ec5c8b6c5b2"
   },
   "outputs": [
   ],
   "source": [
    "img = cv2.cvtColor(io.imread(url), cv2.COLOR_RGB2BGR)\n",
    "cv2_imshow(img)"
   ]
  },
  {
   "cell_type": "code",
   "execution_count": 0,
   "metadata": {
    "collapsed": false
   },
   "outputs": [
   ],
   "source": [
   ]
  },
  {
   "cell_type": "code",
   "execution_count": 0,
   "metadata": {
    "collapsed": false
   },
   "outputs": [
   ],
   "source": [
   ]
  },
  {
   "cell_type": "markdown",
   "metadata": {
    "collapsed": false,
    "id": "Cp_0BoQ4SkMt"
   },
   "source": [
    "Our image is a little too large, let's resize it!"
   ]
  },
  {
   "cell_type": "code",
   "execution_count": 29,
   "metadata": {
    "colab": {
     "base_uri": "https://localhost:8080/",
     "height": 197
    },
    "collapsed": false,
    "id": "mlFtREL5SqOf",
    "outputId": "3b313407-d6f4-4f9d-b59d-eef18721b7d5"
   },
   "outputs": [
    {
     "data": {
      "text/plain": [
       "<matplotlib.image.AxesImage at 0x7f00a2c4d3a0>"
      ]
     },
     "execution_count": 29,
     "metadata": {
     },
     "output_type": "execute_result"
    },
    {
     "data": {
      "image/png": "[encoded data removed]",
      "text/plain": [
       "<Figure size 432x288 with 1 Axes>"
      ]
     },
     "execution_count": 29,
     "metadata": {
      "needs_background": "light"
     },
     "output_type": "execute_result"
    }
   ],
   "source": [
    "img = cv2.resize(img, (180, 180))\n",
    "cv2_imshow(img)"
   ]
  },
  {
   "cell_type": "markdown",
   "metadata": {
    "collapsed": false,
    "id": "_ZB7mlZ1S6FY"
   },
   "source": [
    "Now, let's try to cast an image to only blue! cv2.split splits an image to 3 channels of pattern: blue, green, red"
   ]
  },
  {
   "cell_type": "code",
   "execution_count": 10,
   "metadata": {
    "colab": {
     "base_uri": "https://localhost:8080/",
     "height": 197
    },
    "collapsed": false,
    "id": "2kGkRWP9S31H",
    "outputId": "a44a57b2-0fa3-43e5-80bd-b2c8466e2407"
   },
   "outputs": [
    {
     "data": {
      "image/png": "[encoded data removed]",
      "text/plain": [
       "<PIL.Image.Image image mode=RGB size=180x180 at 0x7FC09F82CA10>"
      ]
     },
     "execution_count": 10,
     "metadata": {
     },
     "output_type": "execute_result"
    }
   ],
   "source": [
    "b, g, r = cv2.split(img)\n",
    "# fill other non-blue channels with zeros to achieve all blues\n",
    "zeros_ch = np.zeros(img.shape[0:2], dtype=\"uint8\")\n",
    "blue_img = cv2.merge([b, zeros_ch, zeros_ch])\n",
    "cv2_imshow(blue_img)"
   ]
  },
  {
   "cell_type": "markdown",
   "metadata": {
    "collapsed": false,
    "id": "fLNqTYnHTLMF"
   },
   "source": [
    "Finally, let's try and rotate this image!"
   ]
  },
  {
   "cell_type": "code",
   "execution_count": 12,
   "metadata": {
    "colab": {
     "base_uri": "https://localhost:8080/",
     "height": 377
    },
    "collapsed": false,
    "id": "oq4rqLRiTOSu",
    "outputId": "4a156802-a24a-419d-e622-2b5f33bbd364"
   },
   "outputs": [
    {
     "data": {
      "image/png": "[encoded data removed]",
      "text/plain": [
       "<PIL.Image.Image image mode=RGB size=180x180 at 0x7FC09F82C090>"
      ]
     },
     "execution_count": 12,
     "metadata": {
     },
     "output_type": "execute_result"
    },
    {
     "data": {
      "image/png": "[encoded data removed]",
      "text/plain": [
       "<PIL.Image.Image image mode=RGB size=180x180 at 0x7FC09F82C2D0>"
      ]
     },
     "execution_count": 12,
     "metadata": {
     },
     "output_type": "execute_result"
    }
   ],
   "source": [
    "cv2_imshow(blue_img)\n",
    "cv2_imshow(cv2.rotate(blue_img, 0)) # rotate clockwise 90 degrees"
   ]
  },
  {
   "cell_type": "markdown",
   "metadata": {
    "collapsed": false,
    "id": "rdxAD41lTUNj"
   },
   "source": [
    "Below, find your own image, display it, resize it to your choosing, make the image only green or red, and then rotate it!"
   ]
  },
  {
   "cell_type": "code",
   "execution_count": 0,
   "metadata": {
    "collapsed": false,
    "id": "8Ay58KUqTejo"
   },
   "outputs": [
   ],
   "source": [
   ]
  },
  {
   "cell_type": "code",
   "execution_count": 0,
   "metadata": {
    "collapsed": false,
    "id": "KU1Mi35PTf_y"
   },
   "outputs": [
   ],
   "source": [
   ]
  },
  {
   "cell_type": "code",
   "execution_count": 0,
   "metadata": {
    "collapsed": false,
    "id": "x7wxxa0_Tf1S"
   },
   "outputs": [
   ],
   "source": [
   ]
  },
  {
   "cell_type": "code",
   "execution_count": 0,
   "metadata": {
    "collapsed": false,
    "id": "vE3I6c9lTfUw"
   },
   "outputs": [
   ],
   "source": [
   ]
  },
  {
   "cell_type": "markdown",
   "metadata": {
    "collapsed": false,
    "id": "AfyUKmPmQPSX"
   },
   "source": [
    "If you are coding this on your own, you may need to install packages like numpy or OpenCV, which we will get into later, but there are many built in packages as well"
   ]
  },
  {
   "cell_type": "markdown",
   "metadata": {
    "collapsed": false,
    "id": "9KiSuvOdQPSX"
   },
   "source": [
    "time allows us to access the current time"
   ]
  },
  {
   "cell_type": "code",
   "execution_count": 12,
   "metadata": {
    "colab": {
     "base_uri": "https://localhost:8080/"
    },
    "collapsed": false,
    "id": "pt3_2jHFQPSY",
    "outputId": "c0b02164-354d-49be-e965-d33c0c806e58"
   },
   "outputs": [
    {
     "data": {
      "text/plain": [
       "1656363318.2945817"
      ]
     },
     "execution_count": 12,
     "metadata": {
     },
     "output_type": "execute_result"
    }
   ],
   "source": [
    "import time\n",
    "time.time() # you will see this go up as you rerun it"
   ]
  },
  {
   "cell_type": "markdown",
   "metadata": {
    "collapsed": false,
    "id": "Nj_EQDY1QPSY"
   },
   "source": [
    "random allows us to get random numbers"
   ]
  },
  {
   "cell_type": "code",
   "execution_count": 13,
   "metadata": {
    "colab": {
     "base_uri": "https://localhost:8080/"
    },
    "collapsed": false,
    "id": "SQyvSt0CQPSY",
    "outputId": "13339029-f606-4ede-d0b4-87751d658c12"
   },
   "outputs": [
    {
     "data": {
      "text/plain": [
       "2"
      ]
     },
     "execution_count": 13,
     "metadata": {
     },
     "output_type": "execute_result"
    }
   ],
   "source": [
    "import random\n",
    "random.randint(0,5) # this gives one of the numbers between and including 0 and 5"
   ]
  },
  {
   "cell_type": "markdown",
   "metadata": {
    "collapsed": false,
    "id": "eT8dgW5dQPSY"
   },
   "source": [
    "Find a built in module and use it here:"
   ]
  },
  {
   "cell_type": "code",
   "execution_count": 16,
   "metadata": {
    "collapsed": false,
    "id": "-GtaLCXYQPSY"
   },
   "outputs": [
    {
     "data": {
      "text/plain": [
       "3.6"
      ]
     },
     "execution_count": 16,
     "metadata": {
     },
     "output_type": "execute_result"
    }
   ],
   "source": [
    "import statistics\n",
    "statistics.mean([4,1,6,2,5])"
   ]
  },
  {
   "cell_type": "markdown",
   "metadata": {
    "collapsed": false,
    "id": "3YhUswp6QPSY"
   },
   "source": [
    "You may notice that we have to call the function we need by placing it after the module connected by a dot\n",
    "\n",
    "But many times, that is inconvenient and we can get around it like this"
   ]
  },
  {
   "cell_type": "code",
   "execution_count": 0,
   "metadata": {
    "colab": {
     "base_uri": "https://localhost:8080/"
    },
    "collapsed": false,
    "id": "ddsrumBjQPSY",
    "outputId": "5871db5c-53ab-4945-8a53-38a0ae8d20c5"
   },
   "outputs": [
    {
     "data": {
      "text/plain": [
       "4"
      ]
     },
     "execution_count": 0,
     "metadata": {
     },
     "output_type": "execute_result"
    }
   ],
   "source": [
    "from random import randint\n",
    "randint(0,5) # now we can exclude the random. prefix"
   ]
  },
  {
   "cell_type": "markdown",
   "metadata": {
    "collapsed": false,
    "id": "H36mITafQPSZ"
   },
   "source": [
    "finally, as we did with the numpy module, we can rename the function"
   ]
  },
  {
   "cell_type": "code",
   "execution_count": 15,
   "metadata": {
    "colab": {
     "base_uri": "https://localhost:8080/"
    },
    "collapsed": false,
    "id": "QGbFdUSTQPSZ",
    "outputId": "1b5cf26f-ef9f-4d2d-c29d-eba33b097961"
   },
   "outputs": [
    {
     "data": {
      "text/plain": [
       "1656363355.9026852"
      ]
     },
     "execution_count": 15,
     "metadata": {
     },
     "output_type": "execute_result"
    }
   ],
   "source": [
    "from time import time as t\n",
    "t()"
   ]
  },
  {
   "cell_type": "code",
   "execution_count": 0,
   "metadata": {
    "collapsed": false,
    "id": "KkvmLPPIRC3s"
   },
   "outputs": [
   ],
   "source": [
   ]
  }
 ],
 "metadata": {
  "colab": {
   "name": "intro_to_python_new.ipynb",
   "provenance": [
   ]
  },
  "interpreter": {
   "hash": "08210294964727e4010dccc398c44f22b92a2e77e2aceea574ad21eae77cd8e8"
  },
  "kernelspec": {
   "display_name": "Python (cv_env)",
   "language": "python",
   "metadata": {
    "debugger": true
   },
   "name": "cv_env",
   "resource_dir": "/projects/dbe22d81-d100-4bb1-a81a-15517019b209/.local/share/jupyter/kernels/cv_env"
  },
  "language_info": {
   "codemirror_mode": {
    "name": "ipython",
    "version": 3
   },
   "file_extension": ".py",
   "mimetype": "text/x-python",
   "name": "python",
   "nbconvert_exporter": "python",
   "pygments_lexer": "ipython3",
   "version": "3.8.13"
  },
  "orig_nbformat": 4
 },
 "nbformat": 4,
 "nbformat_minor": 4
}